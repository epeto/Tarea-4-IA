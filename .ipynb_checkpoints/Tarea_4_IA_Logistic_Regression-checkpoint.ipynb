{
 "cells": [
  {
   "cell_type": "markdown",
   "metadata": {
    "id": "n6izPkygEiZ2"
   },
   "source": [
    "# Regresión Logística"
   ]
  },
  {
   "cell_type": "code",
   "execution_count": null,
   "metadata": {
    "id": "olh1p0qSgPoi"
   },
   "outputs": [],
   "source": [
    "import numpy as np\n",
    "import pandas as pd\n",
    "import matplotlib.pyplot as plt"
   ]
  },
  {
   "cell_type": "code",
   "execution_count": null,
   "metadata": {
    "id": "8sZRQRW8CkYs"
   },
   "outputs": [],
   "source": [
    "class RegresionLogistica:\n",
    "    \n",
    "    def __init__(self, xEntrenamiento, yEntrenamiento):\n",
    "        self.xEntrenamiento = xEntrenamiento\n",
    "        self.yEntrenamiento = yEntrenamiento\n",
    "\n",
    "        \n",
    "        self.theta = np.random.rand(self.xEntrenamiento.shape[1]) \n",
    "        \n",
    "       # self.matriz_diseño = np.hstack((np.ones((self.xEntrenamiento.shape[0], 1)), self.xEntrenamiento))\n",
    "        \n",
    "    def sum_square_error(self, y, y_hat):\n",
    "          return np.square(y - y_hat).sum()\n",
    "    def cross_entropy(self,y, y_hat):\n",
    "          loss = -np.mean(y*(np.log(y_hat)) - (1-y)*np.log(1-y_hat))\n",
    "          return loss\n",
    "        \n",
    "      # Definimos la función sigmoidal o logística         \n",
    "    def regresionLog(self, Xp, theta):\n",
    "        y_hat = Xp @ theta\n",
    "        y_hat = np.ones(shape=y_hat.shape) / ( 1 + np.exp(-y_hat) )\n",
    "        return y_hat\n",
    "    \n",
    "    def train(self,n_iter, alfa):\n",
    "        \n",
    "        y_pred = self.regresionLog(self.xEntrenamiento, self.theta)\n",
    "        print(y_pred)\n",
    "        # Obtenemos el valor de la pérdida\n",
    "        #loss= self.sum_square_error(yEntrenamiento, y_pred) / y_pred.shape[0]\n",
    "        loss = self.cross_entropy(self.yEntrenamiento, y_pred) #/ y_pred.shape[0]\n",
    "        # Guardamos el historial de la perdida\n",
    "        loss_hist = np.array([loss])\n",
    "        \n",
    "        for i in range(n_iter):\n",
    "            # Obtenemos el gradiente \n",
    "            grad= (self.xEntrenamiento.T @ (y_pred - self.yEntrenamiento)) / y_pred.shape[0]\n",
    "            # Actualizamos el vector theta\n",
    "            self.theta = self.theta - alfa * grad\n",
    "            # Obetnemos la predición en la iteración i\n",
    "            y_pred =  self.regresionLog(self.xEntrenamiento, self.theta)\n",
    "            # Obtenemos el valor de la pérdida\n",
    "            loss= self.cross_entropy(self.yEntrenamiento, y_pred) #/ y_pred.shape[0]\n",
    "            # Guardamos el valor de la pérdida \n",
    "            loss_hist = np.append(loss_hist, loss)  \n",
    "\n",
    "   \n",
    "        plt.figure(figsize=(10,10))\n",
    "        plt.plot(range(len(loss_hist)), loss_hist, 'blue')\n",
    "        plt.title('Gráfico de desempeño')\n",
    "        plt.xlabel(\"Iteracion\")\n",
    "        plt.ylabel(\"Perdida\")\n",
    "        plt.show()\n",
    "        \n",
    "    def predict(self,X):\n",
    "        y_pred = self.regresionLog(X, self.theta)\n",
    "        \n",
    "            \n",
    "        \n",
    "        return [y_pred, [ 1 if x>0.5 else 0 for x in y_pred]]\n",
    "             "
   ]
  },
  {
   "cell_type": "markdown",
   "metadata": {
    "id": "xE1LY_WyeQvI"
   },
   "source": []
  },
  {
   "cell_type": "code",
   "execution_count": null,
   "metadata": {
    "id": "7o4OKJkN4Ddv"
   },
   "outputs": [],
   "source": []
  },
  {
   "cell_type": "code",
   "execution_count": null,
   "metadata": {
    "id": "XG8GjWl3HsJ6"
   },
   "outputs": [],
   "source": [
    "def sigmoid(z):\n",
    "    return 1.0/(1 + np.exp(-z))\n",
    "  \n",
    "def loss(y, y_hat):\n",
    "    loss = -np.mean(y*(np.log(y_hat)) - (1-y)*np.log(1-y_hat))\n",
    "    return loss"
   ]
  },
  {
   "cell_type": "code",
   "execution_count": null,
   "metadata": {
    "id": "CcOUn2C3HsJ7"
   },
   "outputs": [],
   "source": [
    "def gradients(X, y, y_hat):\n",
    "    \"\"\"\n",
    "     X --> Entrada.\n",
    "     y --> Variable Objetivo.\n",
    "     y_hat --> hypothesis/predictions.\n",
    "     w --> weights (parameter).\n",
    "     b --> bias (parameter).\n",
    "    \"\"\"\n",
    "    \n",
    "    # dimensión\n",
    "    m = X.shape[0]\n",
    "    \n",
    "    # Gradiente de pérdida de los pesos\n",
    "    dw = (1/m)*np.dot(X.T, (y_hat - y))\n",
    "    \n",
    "    # Gradiente de pérdida del bias\n",
    "    db = (1/m)*np.sum((y_hat - y)) \n",
    "    \n",
    "    return dw, db"
   ]
  },
  {
   "cell_type": "code",
   "execution_count": null,
   "metadata": {
    "id": "a9UuA92bHsJ8"
   },
   "outputs": [],
   "source": [
    "def train(X, y, bs, epochs, lr):\n",
    "    \"\"\" \n",
    "    # X --> Entrada.\n",
    "    # y --> variable objetivo.\n",
    "    # bs --> Tamaño del batch.\n",
    "    # epochs --> Iteraciones.\n",
    "    # lr --> Tasa de aprendizaje.\n",
    "       \n",
    "    # m-> Número de renglones\n",
    "    # n-> Número de varoables\n",
    "    \"\"\"\n",
    "    m, n = X.shape\n",
    "    \n",
    "    # Inicializamos los pesos\n",
    "    w = np.zeros((n,1))\n",
    "    b = 0\n",
    "    \n",
    "    # Rescalamos\n",
    "    y = y.reshape(m,1)\n",
    "    \n",
    "    \n",
    "    \n",
    "    # Vector de pérdida\n",
    "    losses = []\n",
    "    \n",
    "    # Entrenamiento\n",
    "    for epoch in range(epochs):\n",
    "        for i in range((m-1)//bs + 1):\n",
    "            \n",
    "            # Definimos los batches\n",
    "            start_i = i*bs\n",
    "            end_i = start_i + bs\n",
    "            xb = X[start_i:end_i]\n",
    "            yb = y[start_i:end_i]\n",
    "            \n",
    "            # Calculo de hipotesis de preducción\n",
    "            y_hat = sigmoid(np.dot(xb, w) + b)\n",
    "            \n",
    "            # Obtenemos los gradientes\n",
    "            dw, db = gradients(xb, yb, y_hat)\n",
    "            \n",
    "            # Actualizamos parámetros\n",
    "            w -= lr*dw\n",
    "            b -= lr*db\n",
    "        \n",
    "        # Se calcula perdida y se añade a la lista\n",
    "        l = loss(y, sigmoid(np.dot(X, w) + b))\n",
    "        losses.append(l)\n",
    "        \n",
    "    # Regresamos pesos, bias, perdida y la proba\n",
    "    return w, b, losses, y_hat"
   ]
  },
  {
   "cell_type": "code",
   "execution_count": null,
   "metadata": {
    "id": "3SiLzz2vHsJ9"
   },
   "outputs": [],
   "source": [
    "def predict(X):\n",
    "    \n",
    "    # X --> Entrada.\n",
    "    \n",
    "    # Calculamos predicciones\n",
    "    preds = sigmoid(np.dot(X, w) + b)\n",
    "    \n",
    "    # Listado de predicciones\n",
    "    pred_class = []\n",
    "    # SI y_hat >= 0.5 --> es 1\n",
    "    # if y_hat < 0.5 --> es 0\n",
    "    pred_class = [1 if i > 0.5 else 0 for i in preds]\n",
    "    \n",
    "    return [np.array(pred_class),np.array(preds)]"
   ]
  },
  {
   "cell_type": "markdown",
   "metadata": {
    "id": "Cl3TfexaeRGy"
   },
   "source": [
    "\n",
    "# Aplicar\n",
    "Aplicar el modelo de regresión logística al siguiente conjunto de  datos https://www.kaggle.com/datasets/dragonheir/logistic-regression donde se utiliza el genero, edad y salario para estimar si un usuario compraría un artículo"
   ]
  },
  {
   "cell_type": "markdown",
   "metadata": {
    "id": "VvYunQUceRGz"
   },
   "source": [
    "## Importación de Datos"
   ]
  },
  {
   "cell_type": "code",
   "execution_count": null,
   "metadata": {
    "colab": {
     "base_uri": "https://localhost:8080/",
     "height": 206
    },
    "id": "IG1kTD2SeRGz",
    "outputId": "07b86dd0-8c2a-45d0-805d-b2b1797a0abe"
   },
   "outputs": [
    {
     "data": {
      "text/html": [
       "\n",
       "  <div id=\"df-e6b0a8c9-76d7-4dde-bfc3-d5518fa1d98b\">\n",
       "    <div class=\"colab-df-container\">\n",
       "      <div>\n",
       "<style scoped>\n",
       "    .dataframe tbody tr th:only-of-type {\n",
       "        vertical-align: middle;\n",
       "    }\n",
       "\n",
       "    .dataframe tbody tr th {\n",
       "        vertical-align: top;\n",
       "    }\n",
       "\n",
       "    .dataframe thead th {\n",
       "        text-align: right;\n",
       "    }\n",
       "</style>\n",
       "<table border=\"1\" class=\"dataframe\">\n",
       "  <thead>\n",
       "    <tr style=\"text-align: right;\">\n",
       "      <th></th>\n",
       "      <th>User ID</th>\n",
       "      <th>Gender</th>\n",
       "      <th>Age</th>\n",
       "      <th>EstimatedSalary</th>\n",
       "      <th>Purchased</th>\n",
       "    </tr>\n",
       "  </thead>\n",
       "  <tbody>\n",
       "    <tr>\n",
       "      <th>0</th>\n",
       "      <td>15624510</td>\n",
       "      <td>Male</td>\n",
       "      <td>19</td>\n",
       "      <td>19000</td>\n",
       "      <td>0</td>\n",
       "    </tr>\n",
       "    <tr>\n",
       "      <th>1</th>\n",
       "      <td>15810944</td>\n",
       "      <td>Male</td>\n",
       "      <td>35</td>\n",
       "      <td>20000</td>\n",
       "      <td>0</td>\n",
       "    </tr>\n",
       "    <tr>\n",
       "      <th>2</th>\n",
       "      <td>15668575</td>\n",
       "      <td>Female</td>\n",
       "      <td>26</td>\n",
       "      <td>43000</td>\n",
       "      <td>0</td>\n",
       "    </tr>\n",
       "    <tr>\n",
       "      <th>3</th>\n",
       "      <td>15603246</td>\n",
       "      <td>Female</td>\n",
       "      <td>27</td>\n",
       "      <td>57000</td>\n",
       "      <td>0</td>\n",
       "    </tr>\n",
       "    <tr>\n",
       "      <th>4</th>\n",
       "      <td>15804002</td>\n",
       "      <td>Male</td>\n",
       "      <td>19</td>\n",
       "      <td>76000</td>\n",
       "      <td>0</td>\n",
       "    </tr>\n",
       "  </tbody>\n",
       "</table>\n",
       "</div>\n",
       "      <button class=\"colab-df-convert\" onclick=\"convertToInteractive('df-e6b0a8c9-76d7-4dde-bfc3-d5518fa1d98b')\"\n",
       "              title=\"Convert this dataframe to an interactive table.\"\n",
       "              style=\"display:none;\">\n",
       "        \n",
       "  <svg xmlns=\"http://www.w3.org/2000/svg\" height=\"24px\"viewBox=\"0 0 24 24\"\n",
       "       width=\"24px\">\n",
       "    <path d=\"M0 0h24v24H0V0z\" fill=\"none\"/>\n",
       "    <path d=\"M18.56 5.44l.94 2.06.94-2.06 2.06-.94-2.06-.94-.94-2.06-.94 2.06-2.06.94zm-11 1L8.5 8.5l.94-2.06 2.06-.94-2.06-.94L8.5 2.5l-.94 2.06-2.06.94zm10 10l.94 2.06.94-2.06 2.06-.94-2.06-.94-.94-2.06-.94 2.06-2.06.94z\"/><path d=\"M17.41 7.96l-1.37-1.37c-.4-.4-.92-.59-1.43-.59-.52 0-1.04.2-1.43.59L10.3 9.45l-7.72 7.72c-.78.78-.78 2.05 0 2.83L4 21.41c.39.39.9.59 1.41.59.51 0 1.02-.2 1.41-.59l7.78-7.78 2.81-2.81c.8-.78.8-2.07 0-2.86zM5.41 20L4 18.59l7.72-7.72 1.47 1.35L5.41 20z\"/>\n",
       "  </svg>\n",
       "      </button>\n",
       "      \n",
       "  <style>\n",
       "    .colab-df-container {\n",
       "      display:flex;\n",
       "      flex-wrap:wrap;\n",
       "      gap: 12px;\n",
       "    }\n",
       "\n",
       "    .colab-df-convert {\n",
       "      background-color: #E8F0FE;\n",
       "      border: none;\n",
       "      border-radius: 50%;\n",
       "      cursor: pointer;\n",
       "      display: none;\n",
       "      fill: #1967D2;\n",
       "      height: 32px;\n",
       "      padding: 0 0 0 0;\n",
       "      width: 32px;\n",
       "    }\n",
       "\n",
       "    .colab-df-convert:hover {\n",
       "      background-color: #E2EBFA;\n",
       "      box-shadow: 0px 1px 2px rgba(60, 64, 67, 0.3), 0px 1px 3px 1px rgba(60, 64, 67, 0.15);\n",
       "      fill: #174EA6;\n",
       "    }\n",
       "\n",
       "    [theme=dark] .colab-df-convert {\n",
       "      background-color: #3B4455;\n",
       "      fill: #D2E3FC;\n",
       "    }\n",
       "\n",
       "    [theme=dark] .colab-df-convert:hover {\n",
       "      background-color: #434B5C;\n",
       "      box-shadow: 0px 1px 3px 1px rgba(0, 0, 0, 0.15);\n",
       "      filter: drop-shadow(0px 1px 2px rgba(0, 0, 0, 0.3));\n",
       "      fill: #FFFFFF;\n",
       "    }\n",
       "  </style>\n",
       "\n",
       "      <script>\n",
       "        const buttonEl =\n",
       "          document.querySelector('#df-e6b0a8c9-76d7-4dde-bfc3-d5518fa1d98b button.colab-df-convert');\n",
       "        buttonEl.style.display =\n",
       "          google.colab.kernel.accessAllowed ? 'block' : 'none';\n",
       "\n",
       "        async function convertToInteractive(key) {\n",
       "          const element = document.querySelector('#df-e6b0a8c9-76d7-4dde-bfc3-d5518fa1d98b');\n",
       "          const dataTable =\n",
       "            await google.colab.kernel.invokeFunction('convertToInteractive',\n",
       "                                                     [key], {});\n",
       "          if (!dataTable) return;\n",
       "\n",
       "          const docLinkHtml = 'Like what you see? Visit the ' +\n",
       "            '<a target=\"_blank\" href=https://colab.research.google.com/notebooks/data_table.ipynb>data table notebook</a>'\n",
       "            + ' to learn more about interactive tables.';\n",
       "          element.innerHTML = '';\n",
       "          dataTable['output_type'] = 'display_data';\n",
       "          await google.colab.output.renderOutput(dataTable, element);\n",
       "          const docLink = document.createElement('div');\n",
       "          docLink.innerHTML = docLinkHtml;\n",
       "          element.appendChild(docLink);\n",
       "        }\n",
       "      </script>\n",
       "    </div>\n",
       "  </div>\n",
       "  "
      ],
      "text/plain": [
       "    User ID  Gender  Age  EstimatedSalary  Purchased\n",
       "0  15624510    Male   19            19000          0\n",
       "1  15810944    Male   35            20000          0\n",
       "2  15668575  Female   26            43000          0\n",
       "3  15603246  Female   27            57000          0\n",
       "4  15804002    Male   19            76000          0"
      ]
     },
     "execution_count": 353,
     "metadata": {},
     "output_type": "execute_result"
    }
   ],
   "source": [
    "df = pd.read_csv('/content/drive/MyDrive/PCICBB/Social_Network_Ads.csv')\n",
    "df.head()"
   ]
  },
  {
   "cell_type": "markdown",
   "metadata": {
    "id": "CTT0NFWteRG0"
   },
   "source": [
    "## Mini análisis descriptivo\n",
    "\n"
   ]
  },
  {
   "cell_type": "code",
   "execution_count": null,
   "metadata": {
    "colab": {
     "base_uri": "https://localhost:8080/"
    },
    "id": "gvuMuPV7eRG0",
    "outputId": "7aa1515a-934b-4887-c020-36ddd48ab707"
   },
   "outputs": [
    {
     "name": "stdout",
     "output_type": "stream",
     "text": [
      "<class 'pandas.core.frame.DataFrame'>\n",
      "RangeIndex: 400 entries, 0 to 399\n",
      "Data columns (total 5 columns):\n",
      " #   Column           Non-Null Count  Dtype \n",
      "---  ------           --------------  ----- \n",
      " 0   User ID          400 non-null    int64 \n",
      " 1   Gender           400 non-null    object\n",
      " 2   Age              400 non-null    int64 \n",
      " 3   EstimatedSalary  400 non-null    int64 \n",
      " 4   Purchased        400 non-null    int64 \n",
      "dtypes: int64(4), object(1)\n",
      "memory usage: 15.8+ KB\n"
     ]
    }
   ],
   "source": [
    "df.info()"
   ]
  },
  {
   "cell_type": "markdown",
   "metadata": {
    "id": "LCPe0G4ueRG0"
   },
   "source": [
    "Afortunadamente no hay nulos"
   ]
  },
  {
   "cell_type": "code",
   "execution_count": null,
   "metadata": {
    "colab": {
     "base_uri": "https://localhost:8080/",
     "height": 300
    },
    "id": "CnPuUqEteRG0",
    "outputId": "33b0bb16-b766-4132-af1d-1a3f8bbb7644"
   },
   "outputs": [
    {
     "data": {
      "text/html": [
       "\n",
       "  <div id=\"df-5aa29f98-d164-4b30-a52b-9e319b172443\">\n",
       "    <div class=\"colab-df-container\">\n",
       "      <div>\n",
       "<style scoped>\n",
       "    .dataframe tbody tr th:only-of-type {\n",
       "        vertical-align: middle;\n",
       "    }\n",
       "\n",
       "    .dataframe tbody tr th {\n",
       "        vertical-align: top;\n",
       "    }\n",
       "\n",
       "    .dataframe thead th {\n",
       "        text-align: right;\n",
       "    }\n",
       "</style>\n",
       "<table border=\"1\" class=\"dataframe\">\n",
       "  <thead>\n",
       "    <tr style=\"text-align: right;\">\n",
       "      <th></th>\n",
       "      <th>User ID</th>\n",
       "      <th>Age</th>\n",
       "      <th>EstimatedSalary</th>\n",
       "      <th>Purchased</th>\n",
       "    </tr>\n",
       "  </thead>\n",
       "  <tbody>\n",
       "    <tr>\n",
       "      <th>count</th>\n",
       "      <td>4.000000e+02</td>\n",
       "      <td>400.000000</td>\n",
       "      <td>400.000000</td>\n",
       "      <td>400.000000</td>\n",
       "    </tr>\n",
       "    <tr>\n",
       "      <th>mean</th>\n",
       "      <td>1.569154e+07</td>\n",
       "      <td>37.655000</td>\n",
       "      <td>69742.500000</td>\n",
       "      <td>0.357500</td>\n",
       "    </tr>\n",
       "    <tr>\n",
       "      <th>std</th>\n",
       "      <td>7.165832e+04</td>\n",
       "      <td>10.482877</td>\n",
       "      <td>34096.960282</td>\n",
       "      <td>0.479864</td>\n",
       "    </tr>\n",
       "    <tr>\n",
       "      <th>min</th>\n",
       "      <td>1.556669e+07</td>\n",
       "      <td>18.000000</td>\n",
       "      <td>15000.000000</td>\n",
       "      <td>0.000000</td>\n",
       "    </tr>\n",
       "    <tr>\n",
       "      <th>25%</th>\n",
       "      <td>1.562676e+07</td>\n",
       "      <td>29.750000</td>\n",
       "      <td>43000.000000</td>\n",
       "      <td>0.000000</td>\n",
       "    </tr>\n",
       "    <tr>\n",
       "      <th>50%</th>\n",
       "      <td>1.569434e+07</td>\n",
       "      <td>37.000000</td>\n",
       "      <td>70000.000000</td>\n",
       "      <td>0.000000</td>\n",
       "    </tr>\n",
       "    <tr>\n",
       "      <th>75%</th>\n",
       "      <td>1.575036e+07</td>\n",
       "      <td>46.000000</td>\n",
       "      <td>88000.000000</td>\n",
       "      <td>1.000000</td>\n",
       "    </tr>\n",
       "    <tr>\n",
       "      <th>max</th>\n",
       "      <td>1.581524e+07</td>\n",
       "      <td>60.000000</td>\n",
       "      <td>150000.000000</td>\n",
       "      <td>1.000000</td>\n",
       "    </tr>\n",
       "  </tbody>\n",
       "</table>\n",
       "</div>\n",
       "      <button class=\"colab-df-convert\" onclick=\"convertToInteractive('df-5aa29f98-d164-4b30-a52b-9e319b172443')\"\n",
       "              title=\"Convert this dataframe to an interactive table.\"\n",
       "              style=\"display:none;\">\n",
       "        \n",
       "  <svg xmlns=\"http://www.w3.org/2000/svg\" height=\"24px\"viewBox=\"0 0 24 24\"\n",
       "       width=\"24px\">\n",
       "    <path d=\"M0 0h24v24H0V0z\" fill=\"none\"/>\n",
       "    <path d=\"M18.56 5.44l.94 2.06.94-2.06 2.06-.94-2.06-.94-.94-2.06-.94 2.06-2.06.94zm-11 1L8.5 8.5l.94-2.06 2.06-.94-2.06-.94L8.5 2.5l-.94 2.06-2.06.94zm10 10l.94 2.06.94-2.06 2.06-.94-2.06-.94-.94-2.06-.94 2.06-2.06.94z\"/><path d=\"M17.41 7.96l-1.37-1.37c-.4-.4-.92-.59-1.43-.59-.52 0-1.04.2-1.43.59L10.3 9.45l-7.72 7.72c-.78.78-.78 2.05 0 2.83L4 21.41c.39.39.9.59 1.41.59.51 0 1.02-.2 1.41-.59l7.78-7.78 2.81-2.81c.8-.78.8-2.07 0-2.86zM5.41 20L4 18.59l7.72-7.72 1.47 1.35L5.41 20z\"/>\n",
       "  </svg>\n",
       "      </button>\n",
       "      \n",
       "  <style>\n",
       "    .colab-df-container {\n",
       "      display:flex;\n",
       "      flex-wrap:wrap;\n",
       "      gap: 12px;\n",
       "    }\n",
       "\n",
       "    .colab-df-convert {\n",
       "      background-color: #E8F0FE;\n",
       "      border: none;\n",
       "      border-radius: 50%;\n",
       "      cursor: pointer;\n",
       "      display: none;\n",
       "      fill: #1967D2;\n",
       "      height: 32px;\n",
       "      padding: 0 0 0 0;\n",
       "      width: 32px;\n",
       "    }\n",
       "\n",
       "    .colab-df-convert:hover {\n",
       "      background-color: #E2EBFA;\n",
       "      box-shadow: 0px 1px 2px rgba(60, 64, 67, 0.3), 0px 1px 3px 1px rgba(60, 64, 67, 0.15);\n",
       "      fill: #174EA6;\n",
       "    }\n",
       "\n",
       "    [theme=dark] .colab-df-convert {\n",
       "      background-color: #3B4455;\n",
       "      fill: #D2E3FC;\n",
       "    }\n",
       "\n",
       "    [theme=dark] .colab-df-convert:hover {\n",
       "      background-color: #434B5C;\n",
       "      box-shadow: 0px 1px 3px 1px rgba(0, 0, 0, 0.15);\n",
       "      filter: drop-shadow(0px 1px 2px rgba(0, 0, 0, 0.3));\n",
       "      fill: #FFFFFF;\n",
       "    }\n",
       "  </style>\n",
       "\n",
       "      <script>\n",
       "        const buttonEl =\n",
       "          document.querySelector('#df-5aa29f98-d164-4b30-a52b-9e319b172443 button.colab-df-convert');\n",
       "        buttonEl.style.display =\n",
       "          google.colab.kernel.accessAllowed ? 'block' : 'none';\n",
       "\n",
       "        async function convertToInteractive(key) {\n",
       "          const element = document.querySelector('#df-5aa29f98-d164-4b30-a52b-9e319b172443');\n",
       "          const dataTable =\n",
       "            await google.colab.kernel.invokeFunction('convertToInteractive',\n",
       "                                                     [key], {});\n",
       "          if (!dataTable) return;\n",
       "\n",
       "          const docLinkHtml = 'Like what you see? Visit the ' +\n",
       "            '<a target=\"_blank\" href=https://colab.research.google.com/notebooks/data_table.ipynb>data table notebook</a>'\n",
       "            + ' to learn more about interactive tables.';\n",
       "          element.innerHTML = '';\n",
       "          dataTable['output_type'] = 'display_data';\n",
       "          await google.colab.output.renderOutput(dataTable, element);\n",
       "          const docLink = document.createElement('div');\n",
       "          docLink.innerHTML = docLinkHtml;\n",
       "          element.appendChild(docLink);\n",
       "        }\n",
       "      </script>\n",
       "    </div>\n",
       "  </div>\n",
       "  "
      ],
      "text/plain": [
       "            User ID         Age  EstimatedSalary   Purchased\n",
       "count  4.000000e+02  400.000000       400.000000  400.000000\n",
       "mean   1.569154e+07   37.655000     69742.500000    0.357500\n",
       "std    7.165832e+04   10.482877     34096.960282    0.479864\n",
       "min    1.556669e+07   18.000000     15000.000000    0.000000\n",
       "25%    1.562676e+07   29.750000     43000.000000    0.000000\n",
       "50%    1.569434e+07   37.000000     70000.000000    0.000000\n",
       "75%    1.575036e+07   46.000000     88000.000000    1.000000\n",
       "max    1.581524e+07   60.000000    150000.000000    1.000000"
      ]
     },
     "execution_count": 355,
     "metadata": {},
     "output_type": "execute_result"
    }
   ],
   "source": [
    "df.describe()"
   ]
  },
  {
   "cell_type": "markdown",
   "metadata": {
    "id": "5ir2c8QoeRG0"
   },
   "source": [
    "No hay sueldos negativos ni edad negativas"
   ]
  },
  {
   "cell_type": "code",
   "execution_count": null,
   "metadata": {
    "colab": {
     "base_uri": "https://localhost:8080/",
     "height": 286
    },
    "id": "pNtk7Nd6eRG0",
    "outputId": "8306686f-cfe5-4c7a-f6ca-2e1c0d301073"
   },
   "outputs": [
    {
     "data": {
      "text/plain": [
       "<matplotlib.axes._subplots.AxesSubplot at 0x7f010ba656d0>"
      ]
     },
     "execution_count": 356,
     "metadata": {},
     "output_type": "execute_result"
    },
    {
     "data": {
      "image/png": "[encoded data removed]",
      "text/plain": [
       "<Figure size 432x288 with 1 Axes>"
      ]
     },
     "metadata": {},
     "output_type": "display_data"
    }
   ],
   "source": [
    "df['Purchased'].value_counts().plot(kind='bar')"
   ]
  },
  {
   "cell_type": "code",
   "execution_count": null,
   "metadata": {
    "colab": {
     "base_uri": "https://localhost:8080/",
     "height": 331
    },
    "id": "OHF3mYgyeRG1",
    "outputId": "3145e4c4-9efd-4ae8-8dd2-1bfef89f0b35"
   },
   "outputs": [
    {
     "data": {
      "text/plain": [
       "<matplotlib.axes._subplots.AxesSubplot at 0x7f010b489bd0>"
      ]
     },
     "execution_count": 357,
     "metadata": {},
     "output_type": "execute_result"
    },
    {
     "data": {
      "image/png": "[encoded data removed]",
      "text/plain": [
       "<Figure size 432x288 with 1 Axes>"
      ]
     },
     "metadata": {},
     "output_type": "display_data"
    }
   ],
   "source": [
    "df['Gender'].value_counts().plot(kind='bar')"
   ]
  },
  {
   "cell_type": "code",
   "execution_count": null,
   "metadata": {
    "colab": {
     "base_uri": "https://localhost:8080/",
     "height": 344
    },
    "id": "a-yXu7ppeRG1",
    "outputId": "8177fa06-4f9a-4218-982d-28bd1dc621c1"
   },
   "outputs": [
    {
     "data": {
      "text/plain": [
       "Gender\n",
       "Female    AxesSubplot(0.125,0.125;0.775x0.755)\n",
       "Male      AxesSubplot(0.125,0.125;0.775x0.755)\n",
       "Name: Age, dtype: object"
      ]
     },
     "execution_count": 358,
     "metadata": {},
     "output_type": "execute_result"
    },
    {
     "data": {
      "image/png": "[encoded data removed]",
      "text/plain": [
       "<Figure size 432x288 with 1 Axes>"
      ]
     },
     "metadata": {},
     "output_type": "display_data"
    }
   ],
   "source": [
    "df.groupby(\"Gender\").Age.plot(kind='kde',legend=True)"
   ]
  },
  {
   "cell_type": "code",
   "execution_count": null,
   "metadata": {
    "colab": {
     "base_uri": "https://localhost:8080/",
     "height": 359
    },
    "id": "rL_gq6FIeRG1",
    "outputId": "221f92bc-b99b-4349-f9a2-f6dfd63e0488"
   },
   "outputs": [
    {
     "data": {
      "text/plain": [
       "Gender\n",
       "Female    AxesSubplot(0.125,0.125;0.775x0.755)\n",
       "Male      AxesSubplot(0.125,0.125;0.775x0.755)\n",
       "Name: EstimatedSalary, dtype: object"
      ]
     },
     "execution_count": 359,
     "metadata": {},
     "output_type": "execute_result"
    },
    {
     "data": {
      "image/png": "[encoded data removed]",
      "text/plain": [
       "<Figure size 432x288 with 1 Axes>"
      ]
     },
     "metadata": {},
     "output_type": "display_data"
    }
   ],
   "source": [
    "df.groupby(\"Gender\").EstimatedSalary.plot(kind='kde',legend=True)"
   ]
  },
  {
   "cell_type": "markdown",
   "metadata": {
    "id": "JB3bt5IWeRG1"
   },
   "source": [
    "Sorpresivamente las edades y los sueldos no tienen colas tan pesadas"
   ]
  },
  {
   "cell_type": "code",
   "execution_count": null,
   "metadata": {
    "colab": {
     "base_uri": "https://localhost:8080/",
     "height": 344
    },
    "id": "oCW_4horeRG1",
    "outputId": "768b532a-2eb3-4c3f-f338-c0bbc778732a"
   },
   "outputs": [
    {
     "data": {
      "text/plain": [
       "Purchased\n",
       "0    AxesSubplot(0.125,0.125;0.775x0.755)\n",
       "1    AxesSubplot(0.125,0.125;0.775x0.755)\n",
       "Name: Age, dtype: object"
      ]
     },
     "execution_count": 360,
     "metadata": {},
     "output_type": "execute_result"
    },
    {
     "data": {
      "image/png": "[encoded data removed]",
      "text/plain": [
       "<Figure size 432x288 with 1 Axes>"
      ]
     },
     "metadata": {},
     "output_type": "display_data"
    }
   ],
   "source": [
    "df.groupby(\"Purchased\").Age.plot(kind='kde',legend=True)"
   ]
  },
  {
   "cell_type": "code",
   "execution_count": null,
   "metadata": {
    "colab": {
     "base_uri": "https://localhost:8080/",
     "height": 359
    },
    "id": "imuXscMYeRG1",
    "outputId": "626cf3e5-a076-4c5e-9a76-eeb982b961e5"
   },
   "outputs": [
    {
     "data": {
      "text/plain": [
       "Purchased\n",
       "0    AxesSubplot(0.125,0.125;0.775x0.755)\n",
       "1    AxesSubplot(0.125,0.125;0.775x0.755)\n",
       "Name: EstimatedSalary, dtype: object"
      ]
     },
     "execution_count": 361,
     "metadata": {},
     "output_type": "execute_result"
    },
    {
     "data": {
      "image/png": "[encoded data removed]",
      "text/plain": [
       "<Figure size 432x288 with 1 Axes>"
      ]
     },
     "metadata": {},
     "output_type": "display_data"
    }
   ],
   "source": [
    "df.groupby(\"Purchased\").EstimatedSalary.plot(kind='kde',legend=True)"
   ]
  },
  {
   "cell_type": "markdown",
   "metadata": {
    "id": "mO8kzwUWeRG2"
   },
   "source": [
    "Como era de esperarse las personas con mayores sueldos son las que más compran el producto, y también aquellas que sobrepasan los 40 años"
   ]
  },
  {
   "cell_type": "markdown",
   "metadata": {
    "id": "nbmfVtL4wmZi"
   },
   "source": [
    "## Correlación"
   ]
  },
  {
   "cell_type": "code",
   "execution_count": null,
   "metadata": {
    "id": "PStBw-59wsAh"
   },
   "outputs": [],
   "source": [
    "import pandas as pd\n",
    "import seaborn as sn\n",
    "import matplotlib.pyplot as plt\n"
   ]
  },
  {
   "cell_type": "code",
   "execution_count": null,
   "metadata": {
    "colab": {
     "base_uri": "https://localhost:8080/",
     "height": 390
    },
    "id": "Q-istaF5woOW",
    "outputId": "9be7ccdf-c493-44ad-a247-8b5150fe0160"
   },
   "outputs": [
    {
     "data": {
      "image/png": "[encoded data removed]",
      "text/plain": [
       "<Figure size 432x288 with 2 Axes>"
      ]
     },
     "metadata": {},
     "output_type": "display_data"
    }
   ],
   "source": [
    "\n",
    "\n",
    "corr_matrix = df.drop('User ID',axis=1).corr()\n",
    "sn.heatmap(corr_matrix, annot=True)\n",
    "plt.show()"
   ]
  },
  {
   "cell_type": "markdown",
   "metadata": {
    "id": "Ipj4QXEReRG2"
   },
   "source": [
    "## Preproceso\n",
    "Afortunadamente la data no está nada sucia así que lo unico que haremos es un onehot sobre el género y excluir el user id"
   ]
  },
  {
   "cell_type": "code",
   "execution_count": null,
   "metadata": {
    "colab": {
     "base_uri": "https://localhost:8080/",
     "height": 206
    },
    "id": "J0rzANtxeRG2",
    "outputId": "0e3a05ed-055f-4250-db0f-747dfa9bc667"
   },
   "outputs": [
    {
     "data": {
      "text/html": [
       "\n",
       "  <div id=\"df-2b1d2230-59be-4abf-bc9c-806b1289da8c\">\n",
       "    <div class=\"colab-df-container\">\n",
       "      <div>\n",
       "<style scoped>\n",
       "    .dataframe tbody tr th:only-of-type {\n",
       "        vertical-align: middle;\n",
       "    }\n",
       "\n",
       "    .dataframe tbody tr th {\n",
       "        vertical-align: top;\n",
       "    }\n",
       "\n",
       "    .dataframe thead th {\n",
       "        text-align: right;\n",
       "    }\n",
       "</style>\n",
       "<table border=\"1\" class=\"dataframe\">\n",
       "  <thead>\n",
       "    <tr style=\"text-align: right;\">\n",
       "      <th></th>\n",
       "      <th>Gender</th>\n",
       "      <th>Age</th>\n",
       "      <th>EstimatedSalary</th>\n",
       "      <th>Purchased</th>\n",
       "    </tr>\n",
       "  </thead>\n",
       "  <tbody>\n",
       "    <tr>\n",
       "      <th>0</th>\n",
       "      <td>Male</td>\n",
       "      <td>19</td>\n",
       "      <td>19000</td>\n",
       "      <td>0</td>\n",
       "    </tr>\n",
       "    <tr>\n",
       "      <th>1</th>\n",
       "      <td>Male</td>\n",
       "      <td>35</td>\n",
       "      <td>20000</td>\n",
       "      <td>0</td>\n",
       "    </tr>\n",
       "    <tr>\n",
       "      <th>2</th>\n",
       "      <td>Female</td>\n",
       "      <td>26</td>\n",
       "      <td>43000</td>\n",
       "      <td>0</td>\n",
       "    </tr>\n",
       "    <tr>\n",
       "      <th>3</th>\n",
       "      <td>Female</td>\n",
       "      <td>27</td>\n",
       "      <td>57000</td>\n",
       "      <td>0</td>\n",
       "    </tr>\n",
       "    <tr>\n",
       "      <th>4</th>\n",
       "      <td>Male</td>\n",
       "      <td>19</td>\n",
       "      <td>76000</td>\n",
       "      <td>0</td>\n",
       "    </tr>\n",
       "  </tbody>\n",
       "</table>\n",
       "</div>\n",
       "      <button class=\"colab-df-convert\" onclick=\"convertToInteractive('df-2b1d2230-59be-4abf-bc9c-806b1289da8c')\"\n",
       "              title=\"Convert this dataframe to an interactive table.\"\n",
       "              style=\"display:none;\">\n",
       "        \n",
       "  <svg xmlns=\"http://www.w3.org/2000/svg\" height=\"24px\"viewBox=\"0 0 24 24\"\n",
       "       width=\"24px\">\n",
       "    <path d=\"M0 0h24v24H0V0z\" fill=\"none\"/>\n",
       "    <path d=\"M18.56 5.44l.94 2.06.94-2.06 2.06-.94-2.06-.94-.94-2.06-.94 2.06-2.06.94zm-11 1L8.5 8.5l.94-2.06 2.06-.94-2.06-.94L8.5 2.5l-.94 2.06-2.06.94zm10 10l.94 2.06.94-2.06 2.06-.94-2.06-.94-.94-2.06-.94 2.06-2.06.94z\"/><path d=\"M17.41 7.96l-1.37-1.37c-.4-.4-.92-.59-1.43-.59-.52 0-1.04.2-1.43.59L10.3 9.45l-7.72 7.72c-.78.78-.78 2.05 0 2.83L4 21.41c.39.39.9.59 1.41.59.51 0 1.02-.2 1.41-.59l7.78-7.78 2.81-2.81c.8-.78.8-2.07 0-2.86zM5.41 20L4 18.59l7.72-7.72 1.47 1.35L5.41 20z\"/>\n",
       "  </svg>\n",
       "      </button>\n",
       "      \n",
       "  <style>\n",
       "    .colab-df-container {\n",
       "      display:flex;\n",
       "      flex-wrap:wrap;\n",
       "      gap: 12px;\n",
       "    }\n",
       "\n",
       "    .colab-df-convert {\n",
       "      background-color: #E8F0FE;\n",
       "      border: none;\n",
       "      border-radius: 50%;\n",
       "      cursor: pointer;\n",
       "      display: none;\n",
       "      fill: #1967D2;\n",
       "      height: 32px;\n",
       "      padding: 0 0 0 0;\n",
       "      width: 32px;\n",
       "    }\n",
       "\n",
       "    .colab-df-convert:hover {\n",
       "      background-color: #E2EBFA;\n",
       "      box-shadow: 0px 1px 2px rgba(60, 64, 67, 0.3), 0px 1px 3px 1px rgba(60, 64, 67, 0.15);\n",
       "      fill: #174EA6;\n",
       "    }\n",
       "\n",
       "    [theme=dark] .colab-df-convert {\n",
       "      background-color: #3B4455;\n",
       "      fill: #D2E3FC;\n",
       "    }\n",
       "\n",
       "    [theme=dark] .colab-df-convert:hover {\n",
       "      background-color: #434B5C;\n",
       "      box-shadow: 0px 1px 3px 1px rgba(0, 0, 0, 0.15);\n",
       "      filter: drop-shadow(0px 1px 2px rgba(0, 0, 0, 0.3));\n",
       "      fill: #FFFFFF;\n",
       "    }\n",
       "  </style>\n",
       "\n",
       "      <script>\n",
       "        const buttonEl =\n",
       "          document.querySelector('#df-2b1d2230-59be-4abf-bc9c-806b1289da8c button.colab-df-convert');\n",
       "        buttonEl.style.display =\n",
       "          google.colab.kernel.accessAllowed ? 'block' : 'none';\n",
       "\n",
       "        async function convertToInteractive(key) {\n",
       "          const element = document.querySelector('#df-2b1d2230-59be-4abf-bc9c-806b1289da8c');\n",
       "          const dataTable =\n",
       "            await google.colab.kernel.invokeFunction('convertToInteractive',\n",
       "                                                     [key], {});\n",
       "          if (!dataTable) return;\n",
       "\n",
       "          const docLinkHtml = 'Like what you see? Visit the ' +\n",
       "            '<a target=\"_blank\" href=https://colab.research.google.com/notebooks/data_table.ipynb>data table notebook</a>'\n",
       "            + ' to learn more about interactive tables.';\n",
       "          element.innerHTML = '';\n",
       "          dataTable['output_type'] = 'display_data';\n",
       "          await google.colab.output.renderOutput(dataTable, element);\n",
       "          const docLink = document.createElement('div');\n",
       "          docLink.innerHTML = docLinkHtml;\n",
       "          element.appendChild(docLink);\n",
       "        }\n",
       "      </script>\n",
       "    </div>\n",
       "  </div>\n",
       "  "
      ],
      "text/plain": [
       "   Gender  Age  EstimatedSalary  Purchased\n",
       "0    Male   19            19000          0\n",
       "1    Male   35            20000          0\n",
       "2  Female   26            43000          0\n",
       "3  Female   27            57000          0\n",
       "4    Male   19            76000          0"
      ]
     },
     "execution_count": 364,
     "metadata": {},
     "output_type": "execute_result"
    }
   ],
   "source": [
    "df = df.drop('User ID',axis=1)\n",
    "df.head()"
   ]
  },
  {
   "cell_type": "code",
   "execution_count": null,
   "metadata": {
    "colab": {
     "base_uri": "https://localhost:8080/",
     "height": 206
    },
    "id": "WfDofSU8eRG2",
    "outputId": "e5b96fbe-1c93-4a47-baf7-bd200d140870"
   },
   "outputs": [
    {
     "data": {
      "text/html": [
       "\n",
       "  <div id=\"df-48b2d56e-36f9-4d38-ab00-c930d4a8e9e4\">\n",
       "    <div class=\"colab-df-container\">\n",
       "      <div>\n",
       "<style scoped>\n",
       "    .dataframe tbody tr th:only-of-type {\n",
       "        vertical-align: middle;\n",
       "    }\n",
       "\n",
       "    .dataframe tbody tr th {\n",
       "        vertical-align: top;\n",
       "    }\n",
       "\n",
       "    .dataframe thead th {\n",
       "        text-align: right;\n",
       "    }\n",
       "</style>\n",
       "<table border=\"1\" class=\"dataframe\">\n",
       "  <thead>\n",
       "    <tr style=\"text-align: right;\">\n",
       "      <th></th>\n",
       "      <th>Age</th>\n",
       "      <th>EstimatedSalary</th>\n",
       "      <th>Purchased</th>\n",
       "      <th>G_Female</th>\n",
       "      <th>G_Male</th>\n",
       "    </tr>\n",
       "  </thead>\n",
       "  <tbody>\n",
       "    <tr>\n",
       "      <th>0</th>\n",
       "      <td>19</td>\n",
       "      <td>19000</td>\n",
       "      <td>0</td>\n",
       "      <td>0</td>\n",
       "      <td>1</td>\n",
       "    </tr>\n",
       "    <tr>\n",
       "      <th>1</th>\n",
       "      <td>35</td>\n",
       "      <td>20000</td>\n",
       "      <td>0</td>\n",
       "      <td>0</td>\n",
       "      <td>1</td>\n",
       "    </tr>\n",
       "    <tr>\n",
       "      <th>2</th>\n",
       "      <td>26</td>\n",
       "      <td>43000</td>\n",
       "      <td>0</td>\n",
       "      <td>1</td>\n",
       "      <td>0</td>\n",
       "    </tr>\n",
       "    <tr>\n",
       "      <th>3</th>\n",
       "      <td>27</td>\n",
       "      <td>57000</td>\n",
       "      <td>0</td>\n",
       "      <td>1</td>\n",
       "      <td>0</td>\n",
       "    </tr>\n",
       "    <tr>\n",
       "      <th>4</th>\n",
       "      <td>19</td>\n",
       "      <td>76000</td>\n",
       "      <td>0</td>\n",
       "      <td>0</td>\n",
       "      <td>1</td>\n",
       "    </tr>\n",
       "  </tbody>\n",
       "</table>\n",
       "</div>\n",
       "      <button class=\"colab-df-convert\" onclick=\"convertToInteractive('df-48b2d56e-36f9-4d38-ab00-c930d4a8e9e4')\"\n",
       "              title=\"Convert this dataframe to an interactive table.\"\n",
       "              style=\"display:none;\">\n",
       "        \n",
       "  <svg xmlns=\"http://www.w3.org/2000/svg\" height=\"24px\"viewBox=\"0 0 24 24\"\n",
       "       width=\"24px\">\n",
       "    <path d=\"M0 0h24v24H0V0z\" fill=\"none\"/>\n",
       "    <path d=\"M18.56 5.44l.94 2.06.94-2.06 2.06-.94-2.06-.94-.94-2.06-.94 2.06-2.06.94zm-11 1L8.5 8.5l.94-2.06 2.06-.94-2.06-.94L8.5 2.5l-.94 2.06-2.06.94zm10 10l.94 2.06.94-2.06 2.06-.94-2.06-.94-.94-2.06-.94 2.06-2.06.94z\"/><path d=\"M17.41 7.96l-1.37-1.37c-.4-.4-.92-.59-1.43-.59-.52 0-1.04.2-1.43.59L10.3 9.45l-7.72 7.72c-.78.78-.78 2.05 0 2.83L4 21.41c.39.39.9.59 1.41.59.51 0 1.02-.2 1.41-.59l7.78-7.78 2.81-2.81c.8-.78.8-2.07 0-2.86zM5.41 20L4 18.59l7.72-7.72 1.47 1.35L5.41 20z\"/>\n",
       "  </svg>\n",
       "      </button>\n",
       "      \n",
       "  <style>\n",
       "    .colab-df-container {\n",
       "      display:flex;\n",
       "      flex-wrap:wrap;\n",
       "      gap: 12px;\n",
       "    }\n",
       "\n",
       "    .colab-df-convert {\n",
       "      background-color: #E8F0FE;\n",
       "      border: none;\n",
       "      border-radius: 50%;\n",
       "      cursor: pointer;\n",
       "      display: none;\n",
       "      fill: #1967D2;\n",
       "      height: 32px;\n",
       "      padding: 0 0 0 0;\n",
       "      width: 32px;\n",
       "    }\n",
       "\n",
       "    .colab-df-convert:hover {\n",
       "      background-color: #E2EBFA;\n",
       "      box-shadow: 0px 1px 2px rgba(60, 64, 67, 0.3), 0px 1px 3px 1px rgba(60, 64, 67, 0.15);\n",
       "      fill: #174EA6;\n",
       "    }\n",
       "\n",
       "    [theme=dark] .colab-df-convert {\n",
       "      background-color: #3B4455;\n",
       "      fill: #D2E3FC;\n",
       "    }\n",
       "\n",
       "    [theme=dark] .colab-df-convert:hover {\n",
       "      background-color: #434B5C;\n",
       "      box-shadow: 0px 1px 3px 1px rgba(0, 0, 0, 0.15);\n",
       "      filter: drop-shadow(0px 1px 2px rgba(0, 0, 0, 0.3));\n",
       "      fill: #FFFFFF;\n",
       "    }\n",
       "  </style>\n",
       "\n",
       "      <script>\n",
       "        const buttonEl =\n",
       "          document.querySelector('#df-48b2d56e-36f9-4d38-ab00-c930d4a8e9e4 button.colab-df-convert');\n",
       "        buttonEl.style.display =\n",
       "          google.colab.kernel.accessAllowed ? 'block' : 'none';\n",
       "\n",
       "        async function convertToInteractive(key) {\n",
       "          const element = document.querySelector('#df-48b2d56e-36f9-4d38-ab00-c930d4a8e9e4');\n",
       "          const dataTable =\n",
       "            await google.colab.kernel.invokeFunction('convertToInteractive',\n",
       "                                                     [key], {});\n",
       "          if (!dataTable) return;\n",
       "\n",
       "          const docLinkHtml = 'Like what you see? Visit the ' +\n",
       "            '<a target=\"_blank\" href=https://colab.research.google.com/notebooks/data_table.ipynb>data table notebook</a>'\n",
       "            + ' to learn more about interactive tables.';\n",
       "          element.innerHTML = '';\n",
       "          dataTable['output_type'] = 'display_data';\n",
       "          await google.colab.output.renderOutput(dataTable, element);\n",
       "          const docLink = document.createElement('div');\n",
       "          docLink.innerHTML = docLinkHtml;\n",
       "          element.appendChild(docLink);\n",
       "        }\n",
       "      </script>\n",
       "    </div>\n",
       "  </div>\n",
       "  "
      ],
      "text/plain": [
       "   Age  EstimatedSalary  Purchased  G_Female  G_Male\n",
       "0   19            19000          0         0       1\n",
       "1   35            20000          0         0       1\n",
       "2   26            43000          0         1       0\n",
       "3   27            57000          0         1       0\n",
       "4   19            76000          0         0       1"
      ]
     },
     "execution_count": 365,
     "metadata": {},
     "output_type": "execute_result"
    }
   ],
   "source": [
    "df = pd.get_dummies(df, prefix=['G'], columns=['Gender'])\n",
    "df.head()"
   ]
  },
  {
   "cell_type": "code",
   "execution_count": null,
   "metadata": {
    "id": "6UDX8AGPwa2k"
   },
   "outputs": [],
   "source": []
  },
  {
   "cell_type": "markdown",
   "metadata": {
    "id": "X9S_MAEGeRG2"
   },
   "source": [
    "### Dividimos en test y entrenamiento"
   ]
  },
  {
   "cell_type": "code",
   "execution_count": null,
   "metadata": {
    "id": "aQEJGI0k7q1l"
   },
   "outputs": [],
   "source": [
    "from sklearn.model_selection import train_test_split\n",
    "from sklearn import metrics\n",
    "from  sklearn.metrics import classification_report, confusion_matrix"
   ]
  },
  {
   "cell_type": "code",
   "execution_count": null,
   "metadata": {
    "id": "tEtD7Q617q1l"
   },
   "outputs": [],
   "source": [
    "X = df.drop(['Purchased'],axis=1).to_numpy()\n",
    "y = df.Purchased.to_numpy()"
   ]
  },
  {
   "cell_type": "code",
   "execution_count": null,
   "metadata": {
    "id": "dQ4zPdtl7q1l"
   },
   "outputs": [],
   "source": [
    "X_train, X_test, y_train, y_test = train_test_split(X, y, test_size=0.3, random_state=42,stratify=y)"
   ]
  },
  {
   "cell_type": "code",
   "execution_count": null,
   "metadata": {
    "colab": {
     "base_uri": "https://localhost:8080/"
    },
    "id": "ZR1Rbx9C7q1l",
    "outputId": "ce01d843-5ddf-415e-d197-98c9dde3697b"
   },
   "outputs": [
    {
     "data": {
      "text/plain": [
       "((280, 4), (120, 4), (280,), (120,))"
      ]
     },
     "execution_count": 369,
     "metadata": {},
     "output_type": "execute_result"
    }
   ],
   "source": [
    "X_train.shape, X_test.shape, y_train.shape, y_test.shape"
   ]
  },
  {
   "cell_type": "code",
   "execution_count": null,
   "metadata": {
    "colab": {
     "base_uri": "https://localhost:8080/"
    },
    "id": "cBu-hNp87q1m",
    "outputId": "0e5d4d31-2e5f-4f97-a452-54fb5fee7d36"
   },
   "outputs": [
    {
     "data": {
      "text/plain": [
       "array([0., 0., 1., 1., 0., 0., 0., 0., 1., 1., 0., 1., 1., 1., 0., 0., 1.,\n",
       "       1., 1., 0., 0., 1., 0., 1., 1., 0., 0., 1., 0., 0., 1., 0., 1., 1.,\n",
       "       1., 1., 0., 0., 0., 1., 0., 0., 1., 0., 1., 0., 1., 1., 1., 0., 0.,\n",
       "       1., 0., 0., 1., 1., 0., 0., 1., 1., 0., 0., 0., 0., 0., 0., 0., 0.,\n",
       "       0., 0., 0., 0., 0., 0., 0., 0., 0., 0., 1., 0., 1., 0., 0., 1., 1.,\n",
       "       0., 0., 0., 1., 1., 0., 0., 0., 0., 0., 0., 1., 1., 0., 0., 0., 0.,\n",
       "       1., 0., 0., 0., 1., 1., 0., 1., 0., 1., 1., 0., 0., 0., 1., 1., 0.,\n",
       "       0., 0., 0., 1., 1., 1., 1., 0., 0., 0., 1., 1., 1., 0., 0., 1., 0.,\n",
       "       1., 1., 0., 0., 0., 1., 1., 0., 1., 0., 0., 0., 0., 0., 0., 0., 1.,\n",
       "       0., 0., 0., 0., 0., 0., 1., 1., 1., 0., 1., 0., 0., 0., 0., 0., 0.,\n",
       "       0., 1., 0., 1., 1., 1., 1., 0., 1., 1., 1., 0., 1., 1., 0., 0., 0.,\n",
       "       0., 0., 1., 1., 1., 1., 1., 0., 1., 0., 0., 1., 0., 0., 1., 0., 0.,\n",
       "       0., 1., 1., 1., 0., 1., 1., 0., 0., 0., 0., 0., 0., 0., 0., 1., 0.,\n",
       "       0., 0., 0., 0., 0., 0., 1., 1., 0., 1., 1., 1., 0., 1., 0., 0., 0.,\n",
       "       0., 0., 0., 0., 0., 0., 0., 0., 0., 0., 0., 0., 0., 1., 0., 0., 1.,\n",
       "       0., 0., 0., 0., 0., 0., 0., 0., 0., 0., 0., 0., 1., 0., 1., 0., 0.,\n",
       "       1., 0., 0., 0., 1., 0., 0., 0.])"
      ]
     },
     "execution_count": 370,
     "metadata": {},
     "output_type": "execute_result"
    }
   ],
   "source": [
    "X_train=X_train.astype(float)\n",
    "y_train=y_train.astype(float)\n",
    "y_train"
   ]
  },
  {
   "cell_type": "markdown",
   "metadata": {
    "id": "Atw38orN7q1m"
   },
   "source": [
    "## Normalizamos salario y edad"
   ]
  },
  {
   "cell_type": "code",
   "execution_count": null,
   "metadata": {
    "id": "hsrUyHCL7q1m"
   },
   "outputs": [],
   "source": [
    "X_train = X_train.astype(float)\n",
    "X_train[:,0] = (np.max(X_train[:,0])-X_train[:,0])/(np.max(X_train[:,0])-np.min(X_train[:,0]))\n",
    "X_train[:,1] = (np.max(X_train[:,1])-X_train[:,1])/(np.max(X_train[:,1])-np.min(X_train[:,1]))"
   ]
  },
  {
   "cell_type": "code",
   "execution_count": null,
   "metadata": {
    "colab": {
     "base_uri": "https://localhost:8080/"
    },
    "id": "Vd-q_yGJ7q1m",
    "outputId": "a36974c6-54ca-42f7-874b-1ef57002f7ef"
   },
   "outputs": [
    {
     "data": {
      "text/plain": [
       "array([[0.78571429, 0.68148148, 0.        , 1.        ],\n",
       "       [0.45238095, 0.66666667, 1.        , 0.        ],\n",
       "       [0.5       , 0.20740741, 0.        , 1.        ],\n",
       "       ...,\n",
       "       [0.5       , 0.52592593, 1.        , 0.        ],\n",
       "       [0.92857143, 0.45925926, 0.        , 1.        ],\n",
       "       [0.80952381, 0.85185185, 1.        , 0.        ]])"
      ]
     },
     "execution_count": 372,
     "metadata": {},
     "output_type": "execute_result"
    }
   ],
   "source": [
    "X_train"
   ]
  },
  {
   "cell_type": "code",
   "execution_count": null,
   "metadata": {
    "id": "wgzdHFT9tejC"
   },
   "outputs": [],
   "source": [
    "w, b, losses, y_hat = train(X_train, y_train, bs=40, epochs=100000, lr=0.0001)"
   ]
  },
  {
   "cell_type": "code",
   "execution_count": null,
   "metadata": {
    "id": "Chm7nlHyINq4"
   },
   "outputs": [],
   "source": [
    "y_pred_train = predict(X_train)"
   ]
  },
  {
   "cell_type": "markdown",
   "metadata": {
    "id": "p0He6o9CLrne"
   },
   "source": [
    "## Métricas"
   ]
  },
  {
   "cell_type": "code",
   "execution_count": null,
   "metadata": {
    "colab": {
     "base_uri": "https://localhost:8080/"
    },
    "id": "od90xyqwJEhZ",
    "outputId": "6d25f679-77ce-4158-cafc-a75f0be45036"
   },
   "outputs": [
    {
     "name": "stdout",
     "output_type": "stream",
     "text": [
      "              precision    recall  f1-score   support\n",
      "\n",
      "         0.0       0.79      0.96      0.86       180\n",
      "         1.0       0.88      0.53      0.66       100\n",
      "\n",
      "    accuracy                           0.81       280\n",
      "   macro avg       0.83      0.75      0.76       280\n",
      "weighted avg       0.82      0.81      0.79       280\n",
      "\n"
     ]
    }
   ],
   "source": [
    "print(classification_report(y_train, y_pred_train[0]))"
   ]
  },
  {
   "cell_type": "code",
   "execution_count": null,
   "metadata": {
    "id": "0OSdVHv95fYu"
   },
   "outputs": [],
   "source": [
    "X_test = X_test.astype(float)\n",
    "X_test[:,0] = (np.max(X_test[:,0])-X_test[:,0])/(np.max(X_test[:,0])-np.min(X_test[:,0]))\n",
    "X_test[:,1] = (np.max(X_test[:,1])-X_test[:,1])/(np.max(X_test[:,1])-np.min(X_test[:,1]))"
   ]
  },
  {
   "cell_type": "code",
   "execution_count": null,
   "metadata": {
    "colab": {
     "base_uri": "https://localhost:8080/"
    },
    "id": "iQI_LDv2-FAD",
    "outputId": "35b34ed5-5c1b-4a1f-f8aa-9e136ce74b4f"
   },
   "outputs": [
    {
     "data": {
      "text/plain": [
       "array([[0.04761905, 0.82962963, 1.        , 0.        ],\n",
       "       [0.61904762, 0.79259259, 0.        , 1.        ],\n",
       "       [0.        , 0.31111111, 1.        , 0.        ],\n",
       "       [0.52380952, 0.58518519, 0.        , 1.        ],\n",
       "       [0.33333333, 0.80740741, 1.        , 0.        ],\n",
       "       [0.5952381 , 0.96296296, 0.        , 1.        ],\n",
       "       [0.26190476, 0.84444444, 1.        , 0.        ],\n",
       "       [0.64285714, 0.27407407, 1.        , 0.        ],\n",
       "       [0.57142857, 0.74074074, 1.        , 0.        ],\n",
       "       [0.        , 0.8       , 0.        , 1.        ],\n",
       "       [0.54761905, 0.65185185, 1.        , 0.        ],\n",
       "       [0.5952381 , 0.67407407, 0.        , 1.        ],\n",
       "       [0.5952381 , 0.91111111, 0.        , 1.        ],\n",
       "       [0.45238095, 0.46666667, 0.        , 1.        ],\n",
       "       [0.76190476, 0.2       , 0.        , 1.        ],\n",
       "       [0.95238095, 0.5037037 , 1.        , 0.        ],\n",
       "       [0.42857143, 0.31111111, 1.        , 0.        ],\n",
       "       [0.02380952, 0.4962963 , 1.        , 0.        ],\n",
       "       [0.45238095, 0.67407407, 0.        , 1.        ],\n",
       "       [0.83333333, 0.86666667, 0.        , 1.        ],\n",
       "       [0.30952381, 0.96296296, 0.        , 1.        ],\n",
       "       [0.85714286, 0.68148148, 0.        , 1.        ],\n",
       "       [0.30952381, 0.92592593, 0.        , 1.        ],\n",
       "       [0.64285714, 0.79259259, 0.        , 1.        ],\n",
       "       [0.54761905, 0.71851852, 0.        , 1.        ],\n",
       "       [0.76190476, 0.83703704, 1.        , 0.        ],\n",
       "       [0.4047619 , 0.28148148, 1.        , 0.        ],\n",
       "       [0.5       , 0.55555556, 1.        , 0.        ],\n",
       "       [0.35714286, 0.94814815, 1.        , 0.        ],\n",
       "       [0.73809524, 0.4962963 , 1.        , 0.        ],\n",
       "       [0.0952381 , 0.34074074, 1.        , 0.        ],\n",
       "       [0.57142857, 0.64444444, 1.        , 0.        ],\n",
       "       [0.0952381 , 0.12592593, 0.        , 1.        ],\n",
       "       [0.45238095, 0.77777778, 0.        , 1.        ],\n",
       "       [0.26190476, 0.9037037 , 0.        , 1.        ],\n",
       "       [0.52380952, 0.74074074, 1.        , 0.        ],\n",
       "       [0.80952381, 0.47407407, 0.        , 1.        ],\n",
       "       [0.54761905, 0.53333333, 1.        , 0.        ],\n",
       "       [0.66666667, 0.97777778, 0.        , 1.        ],\n",
       "       [0.54761905, 0.56296296, 0.        , 1.        ],\n",
       "       [0.9047619 , 0.51111111, 0.        , 1.        ],\n",
       "       [0.47619048, 0.31851852, 0.        , 1.        ],\n",
       "       [0.45238095, 0.72592593, 0.        , 1.        ],\n",
       "       [0.        , 0.77037037, 1.        , 0.        ],\n",
       "       [0.30952381, 0.73333333, 1.        , 0.        ],\n",
       "       [0.78571429, 0.44444444, 0.        , 1.        ],\n",
       "       [0.30952381, 0.74814815, 1.        , 0.        ],\n",
       "       [0.04761905, 0.76296296, 1.        , 0.        ],\n",
       "       [0.16666667, 0.34074074, 1.        , 0.        ],\n",
       "       [0.5       , 0.57037037, 1.        , 0.        ],\n",
       "       [0.30952381, 0.33333333, 0.        , 1.        ],\n",
       "       [0.38095238, 0.08148148, 1.        , 0.        ],\n",
       "       [0.26190476, 0.06666667, 1.        , 0.        ],\n",
       "       [0.64285714, 0.00740741, 1.        , 0.        ],\n",
       "       [0.45238095, 0.57777778, 1.        , 0.        ],\n",
       "       [0.57142857, 0.17777778, 1.        , 0.        ],\n",
       "       [0.54761905, 0.0962963 , 1.        , 0.        ],\n",
       "       [0.47619048, 0.58518519, 0.        , 1.        ],\n",
       "       [0.19047619, 0.44444444, 1.        , 0.        ],\n",
       "       [0.5952381 , 0.76296296, 1.        , 0.        ],\n",
       "       [0.73809524, 0.79259259, 0.        , 1.        ],\n",
       "       [0.14285714, 0.59259259, 0.        , 1.        ],\n",
       "       [0.42857143, 0.71111111, 0.        , 1.        ],\n",
       "       [0.69047619, 0.56296296, 0.        , 1.        ],\n",
       "       [0.54761905, 0.58518519, 1.        , 0.        ],\n",
       "       [0.28571429, 0.86666667, 0.        , 1.        ],\n",
       "       [1.        , 0.72592593, 0.        , 1.        ],\n",
       "       [0.80952381, 1.        , 0.        , 1.        ],\n",
       "       [0.19047619, 0.95555556, 1.        , 0.        ],\n",
       "       [0.69047619, 0.45185185, 1.        , 0.        ],\n",
       "       [0.80952381, 0.87407407, 0.        , 1.        ],\n",
       "       [0.9047619 , 0.64444444, 1.        , 0.        ],\n",
       "       [0.69047619, 0.68148148, 0.        , 1.        ],\n",
       "       [0.45238095, 0.52592593, 0.        , 1.        ],\n",
       "       [0.33333333, 0.67407407, 0.        , 1.        ],\n",
       "       [0.95238095, 0.5037037 , 1.        , 0.        ],\n",
       "       [0.57142857, 0.86666667, 0.        , 1.        ],\n",
       "       [0.28571429, 0.06666667, 0.        , 1.        ],\n",
       "       [0.47619048, 0.57777778, 1.        , 0.        ],\n",
       "       [0.47619048, 0.68888889, 0.        , 1.        ],\n",
       "       [0.45238095, 0.57777778, 0.        , 1.        ],\n",
       "       [0.83333333, 0.51851852, 0.        , 1.        ],\n",
       "       [0.47619048, 0.55555556, 1.        , 0.        ],\n",
       "       [0.54761905, 0.04444444, 0.        , 1.        ],\n",
       "       [0.5952381 , 0.82222222, 0.        , 1.        ],\n",
       "       [0.42857143, 0.62962963, 0.        , 1.        ],\n",
       "       [1.        , 0.5037037 , 0.        , 1.        ],\n",
       "       [0.78571429, 0.45185185, 0.        , 1.        ],\n",
       "       [0.52380952, 0.7037037 , 1.        , 0.        ],\n",
       "       [0.45238095, 0.57777778, 1.        , 0.        ],\n",
       "       [0.35714286, 0.52592593, 0.        , 1.        ],\n",
       "       [0.        , 0.35555556, 0.        , 1.        ],\n",
       "       [0.52380952, 0.28148148, 1.        , 0.        ],\n",
       "       [0.5952381 , 0.71851852, 0.        , 1.        ],\n",
       "       [0.69047619, 0.54814815, 0.        , 1.        ],\n",
       "       [0.19047619, 0.        , 0.        , 1.        ],\n",
       "       [0.66666667, 0.37037037, 0.        , 1.        ],\n",
       "       [0.42857143, 0.63703704, 0.        , 1.        ],\n",
       "       [0.35714286, 0.91851852, 0.        , 1.        ],\n",
       "       [0.95238095, 0.84444444, 1.        , 0.        ],\n",
       "       [0.71428571, 0.51851852, 0.        , 1.        ],\n",
       "       [0.57142857, 0.66666667, 0.        , 1.        ],\n",
       "       [0.33333333, 0.94814815, 1.        , 0.        ],\n",
       "       [0.23809524, 0.84444444, 1.        , 0.        ],\n",
       "       [0.5952381 , 0.74074074, 0.        , 1.        ],\n",
       "       [0.28571429, 0.22962963, 1.        , 0.        ],\n",
       "       [0.28571429, 0.86666667, 0.        , 1.        ],\n",
       "       [0.73809524, 0.51851852, 0.        , 1.        ],\n",
       "       [0.66666667, 0.47407407, 1.        , 0.        ],\n",
       "       [0.52380952, 0.65925926, 0.        , 1.        ],\n",
       "       [0.61904762, 0.57777778, 1.        , 0.        ],\n",
       "       [0.07142857, 0.86666667, 1.        , 0.        ],\n",
       "       [0.5952381 , 0.62962963, 1.        , 0.        ],\n",
       "       [0.76190476, 0.87407407, 0.        , 1.        ],\n",
       "       [0.52380952, 0.65925926, 0.        , 1.        ],\n",
       "       [0.52380952, 0.62962963, 1.        , 0.        ],\n",
       "       [0.85714286, 0.97037037, 0.        , 1.        ],\n",
       "       [0.52380952, 0.51851852, 1.        , 0.        ],\n",
       "       [0.57142857, 0.71111111, 1.        , 0.        ],\n",
       "       [0.5952381 , 0.66666667, 1.        , 0.        ]])"
      ]
     },
     "execution_count": 377,
     "metadata": {},
     "output_type": "execute_result"
    }
   ],
   "source": [
    "X_test"
   ]
  },
  {
   "cell_type": "code",
   "execution_count": null,
   "metadata": {
    "id": "5AUWsTXvJJur"
   },
   "outputs": [],
   "source": [
    "y_pred_test = predict(X_test)"
   ]
  },
  {
   "cell_type": "code",
   "execution_count": null,
   "metadata": {
    "colab": {
     "base_uri": "https://localhost:8080/"
    },
    "id": "pxXzWtlEJPnr",
    "outputId": "eca5e5a2-b342-41d2-85bc-c3dc03921596"
   },
   "outputs": [
    {
     "name": "stdout",
     "output_type": "stream",
     "text": [
      "              precision    recall  f1-score   support\n",
      "\n",
      "           0       0.76      0.97      0.85        77\n",
      "           1       0.90      0.44      0.59        43\n",
      "\n",
      "    accuracy                           0.78       120\n",
      "   macro avg       0.83      0.71      0.72       120\n",
      "weighted avg       0.81      0.78      0.76       120\n",
      "\n"
     ]
    }
   ],
   "source": [
    "print(classification_report(y_test, y_pred_test[0]))"
   ]
  },
  {
   "cell_type": "markdown",
   "metadata": {
    "id": "p2C9_CgVLuPc"
   },
   "source": [
    "## ROC"
   ]
  },
  {
   "cell_type": "code",
   "execution_count": null,
   "metadata": {
    "colab": {
     "base_uri": "https://localhost:8080/",
     "height": 307
    },
    "id": "FMSj-uvXXh_F",
    "outputId": "b57e2af4-bb57-4e65-d443-14a3deecf86d"
   },
   "outputs": [
    {
     "data": {
      "image/png": "[encoded data removed]",
      "text/plain": [
       "<Figure size 432x288 with 1 Axes>"
      ]
     },
     "metadata": {},
     "output_type": "display_data"
    }
   ],
   "source": [
    "#define metrics\n",
    "fpr, tpr, _ = metrics.roc_curve(y_test,  y_pred_test[1])\n",
    "\n",
    "#create ROC curve\n",
    "plt.plot(fpr,tpr)\n",
    "plt.plot([0, 1], [0, 1], '--')\n",
    "plt.fill_between(fpr, tpr, 0, alpha=0.5, color = 'lightblue')\n",
    "plt.xlabel('Tasa de falsos positivos')\n",
    "plt.ylabel('Tasa de verdaderos positivos')\n",
    "plt.show()"
   ]
  },
  {
   "cell_type": "code",
   "execution_count": null,
   "metadata": {
    "id": "kaqYCjbZZdv4"
   },
   "outputs": [],
   "source": []
  },
  {
   "cell_type": "markdown",
   "metadata": {
    "id": "Sj6jTSD-ZICP"
   },
   "source": [
    "## Curva Precisión-Exactitud"
   ]
  },
  {
   "cell_type": "code",
   "execution_count": null,
   "metadata": {
    "id": "T_VCIKvcZMZC"
   },
   "outputs": [],
   "source": [
    "# calculate precision-recall curve\n",
    "precision, recall, thresholds = metrics.precision_recall_curve(y_test, y_pred_test[1])"
   ]
  },
  {
   "cell_type": "code",
   "execution_count": null,
   "metadata": {
    "colab": {
     "base_uri": "https://localhost:8080/",
     "height": 313
    },
    "id": "I4oTvv-aZqcr",
    "outputId": "bffb0c08-ba74-4736-9e0d-c679c7e7793e"
   },
   "outputs": [
    {
     "data": {
      "text/plain": [
       "Text(0, 0.5, 'Precision')"
      ]
     },
     "execution_count": 382,
     "metadata": {},
     "output_type": "execute_result"
    },
    {
     "data": {
      "image/png": "[encoded data removed]",
      "text/plain": [
       "<Figure size 432x288 with 1 Axes>"
      ]
     },
     "metadata": {},
     "output_type": "display_data"
    }
   ],
   "source": [
    "plt.plot(recall, precision, marker='.', label='Logistic')\n",
    "\n",
    "# axis labels\n",
    "plt.xlabel('Exactitud')\n",
    "plt.ylabel('Precision')\n"
   ]
  },
  {
   "cell_type": "markdown",
   "metadata": {
    "id": "XhiMIo8QZrel"
   },
   "source": [
    "## AUC"
   ]
  },
  {
   "cell_type": "code",
   "execution_count": null,
   "metadata": {
    "colab": {
     "base_uri": "https://localhost:8080/"
    },
    "id": "ZQQzRaJuZgVR",
    "outputId": "ef8bce50-37cd-43c8-811a-0afe18cad364"
   },
   "outputs": [
    {
     "data": {
      "text/plain": [
       "0.8179107448221568"
      ]
     },
     "execution_count": 383,
     "metadata": {},
     "output_type": "execute_result"
    }
   ],
   "source": [
    "metrics.auc(recall, precision)"
   ]
  },
  {
   "cell_type": "code",
   "execution_count": null,
   "metadata": {
    "colab": {
     "base_uri": "https://localhost:8080/",
     "height": 273
    },
    "id": "P8q1Ttvp_MwP",
    "outputId": "adc67b1a-e149-4cee-ac6f-cf7c2dc011a4"
   },
   "outputs": [
    {
     "data": {
      "image/png": "[encoded data removed]",
      "text/plain": [
       "<Figure size 432x288 with 2 Axes>"
      ]
     },
     "metadata": {},
     "output_type": "display_data"
    }
   ],
   "source": [
    "\n",
    "array = confusion_matrix(y_test, y_pred_test[0])\n",
    "\n",
    "df_cm = pd.DataFrame(array)\n",
    "# plt.figure(figsize=(10,7))\n",
    "sn.set(font_scale=1.4) # for label size\n",
    "sn.heatmap(df_cm, annot=True, annot_kws={\"size\": 16}) # font size\n",
    "\n",
    "plt.show()"
   ]
  }
 ],
 "metadata": {
  "colab": {
   "collapsed_sections": [],
   "provenance": []
  },
  "kernelspec": {
   "display_name": "Python 3 (ipykernel)",
   "language": "python",
   "name": "python3"
  },
  "language_info": {
   "codemirror_mode": {
    "name": "ipython",
    "version": 3
   },
   "file_extension": ".py",
   "mimetype": "text/x-python",
   "name": "python",
   "nbconvert_exporter": "python",
   "pygments_lexer": "ipython3",
   "version": "3.10.6"
  }
 },
 "nbformat": 4,
 "nbformat_minor": 1
}
